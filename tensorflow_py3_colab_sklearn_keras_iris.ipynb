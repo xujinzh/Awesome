{
  "nbformat": 4,
  "nbformat_minor": 0,
  "metadata": {
    "colab": {
      "name": "tensorflow_py3_colab.ipynb",
      "version": "0.3.2",
      "provenance": [],
      "collapsed_sections": []
    },
    "kernelspec": {
      "name": "python3",
      "display_name": "Python 3"
    },
    "accelerator": "GPU"
  },
  "cells": [
    {
      "cell_type": "markdown",
      "metadata": {
        "id": "view-in-github",
        "colab_type": "text"
      },
      "source": [
        "[View in Colaboratory](https://colab.research.google.com/github/xujinzh/Awesome/blob/master/tensorflow_py3_colab_sklearn_keras_iris.ipynb)"
      ]
    },
    {
      "metadata": {
        "id": "730Conp4lkqD",
        "colab_type": "code",
        "colab": {
          "base_uri": "https://localhost:8080/",
          "height": 34
        },
        "outputId": "eb9dcc4d-f4f9-417c-d121-2f265f4c718f"
      },
      "cell_type": "code",
      "source": [
        "import tensorflow as tf\n",
        "a=tf.constant(3)\n",
        "b=tf.constant(5)\n",
        "sess=tf.Session()\n",
        "sess.run(a*b)"
      ],
      "execution_count": 60,
      "outputs": [
        {
          "output_type": "execute_result",
          "data": {
            "text/plain": [
              "15"
            ]
          },
          "metadata": {
            "tags": []
          },
          "execution_count": 60
        }
      ]
    },
    {
      "metadata": {
        "id": "BHGuKCnAnMJD",
        "colab_type": "code",
        "colab": {}
      },
      "cell_type": "code",
      "source": [
        "# !uname -a\n",
        "# !w\n",
        "# !pip show tensorflow\n",
        "# !ls\n",
        "# !cat /proc/meminfo\n",
        "# !cat /proc/cpuinfo\n",
        "# !python --version"
      ],
      "execution_count": 0,
      "outputs": []
    },
    {
      "metadata": {
        "id": "Ti1EIrRzpJ77",
        "colab_type": "code",
        "colab": {
          "base_uri": "https://localhost:8080/",
          "height": 289
        },
        "outputId": "6fe18736-99a3-4854-decd-4a34f83711f5"
      },
      "cell_type": "code",
      "source": [
        "import tensorflow as tf\n",
        "device_name = tf.test.gpu_device_name()\n",
        "if device_name != '/device:GPU:0':\n",
        "  raise SystemError('GPU device not found')\n",
        "print('Found GPU at: {}'.format(device_name))\n",
        "\n",
        "from tensorflow.python.client import device_lib\n",
        "device_lib.list_local_devices()"
      ],
      "execution_count": 62,
      "outputs": [
        {
          "output_type": "stream",
          "text": [
            "Found GPU at: /device:GPU:0\n"
          ],
          "name": "stdout"
        },
        {
          "output_type": "execute_result",
          "data": {
            "text/plain": [
              "[name: \"/device:CPU:0\"\n",
              " device_type: \"CPU\"\n",
              " memory_limit: 268435456\n",
              " locality {\n",
              " }\n",
              " incarnation: 17288319827600449417, name: \"/device:GPU:0\"\n",
              " device_type: \"GPU\"\n",
              " memory_limit: 11287966516\n",
              " locality {\n",
              "   bus_id: 1\n",
              "   links {\n",
              "   }\n",
              " }\n",
              " incarnation: 17011834452839926892\n",
              " physical_device_desc: \"device: 0, name: Tesla K80, pci bus id: 0000:00:04.0, compute capability: 3.7\"]"
            ]
          },
          "metadata": {
            "tags": []
          },
          "execution_count": 62
        }
      ]
    },
    {
      "metadata": {
        "id": "nqf4_22zQKQl",
        "colab_type": "text"
      },
      "cell_type": "markdown",
      "source": [
        "# matplotlib Chinese 画图&中文"
      ]
    },
    {
      "metadata": {
        "id": "NmeMMALegMO3",
        "colab_type": "code",
        "colab": {}
      },
      "cell_type": "code",
      "source": [
        "%matplotlib inline\n",
        "import matplotlib.pylab as plt\n",
        "import numpy as np\n",
        "import matplotlib\n"
      ],
      "execution_count": 0,
      "outputs": []
    },
    {
      "metadata": {
        "id": "wxp-MhJXgd2L",
        "colab_type": "code",
        "colab": {
          "base_uri": "https://localhost:8080/",
          "height": 248
        },
        "outputId": "888dd080-32b4-4716-ed10-8fbe1ec383d9"
      },
      "cell_type": "code",
      "source": [
        "n = 1024\n",
        "X = np.random.normal(0, 1, n)\n",
        "Y = np.random.normal(0, 1, n)\n",
        "T = np.arctan2(Y, X)\n",
        "plt.scatter(X, Y, s=75, c=T, alpha=0.7)\n",
        "plt.xlim((-1.5, 1.5))\n",
        "plt.ylim((-1.5, 1.5))\n",
        "plt.xticks(())\n",
        "plt.yticks(())\n",
        "plt.show()"
      ],
      "execution_count": 64,
      "outputs": [
        {
          "output_type": "display_data",
          "data": {
            "image/png": "[encoded data removed]",
            "text/plain": [
              "<matplotlib.figure.Figure at 0x7ff8b0589828>"
            ]
          },
          "metadata": {
            "tags": []
          }
        }
      ]
    },
    {
      "metadata": {
        "id": "gLQkehi6ha62",
        "colab_type": "code",
        "colab": {
          "base_uri": "https://localhost:8080/",
          "height": 272
        },
        "outputId": "3e5db7f6-f772-4399-a441-5370f79ac528"
      },
      "cell_type": "code",
      "source": [
        "n = 12\n",
        "X = np.arange(n)\n",
        "Y1 = (1 - X/float(n)) * np.random.uniform(0.5, 1.0, n)\n",
        "Y2 = (1 - X/float(n)) * np.random.uniform(0.5, 1.0, n)\n",
        "fig = plt.figure()\n",
        "plt.bar(X, +Y1, facecolor='#9999ff', edgecolor='white')\n",
        "plt.bar(X, -Y2, facecolor='#ff9933', edgecolor='white')\n",
        "for x, y in zip(X, Y1):\n",
        "  plt.text(x + 0.0, y + 0.05, '%.2f' %y, ha='center', va='bottom')\n",
        "for x, y in zip(X, Y2):\n",
        "  plt.text(x + 0.0, -y - 0.05, '-%.2f' %y, ha='center', va='top')\n",
        "plt.show()"
      ],
      "execution_count": 65,
      "outputs": [
        {
          "output_type": "display_data",
          "data": {
            "image/png": "[encoded data removed]",
            "text/plain": [
              "<matplotlib.figure.Figure at 0x7ff8b7693a20>"
            ]
          },
          "metadata": {
            "tags": []
          }
        }
      ]
    },
    {
      "metadata": {
        "id": "0vmnu_ZXP8W-",
        "colab_type": "text"
      },
      "cell_type": "markdown",
      "source": [
        "# scipy integrate 积分"
      ]
    },
    {
      "metadata": {
        "id": "e-zjzS5Jj4q6",
        "colab_type": "code",
        "colab": {}
      },
      "cell_type": "code",
      "source": [
        "import numpy as np\n",
        "import scipy as sp\n",
        "from scipy.integrate import quad, dblquad, nquad\n"
      ],
      "execution_count": 0,
      "outputs": []
    },
    {
      "metadata": {
        "id": "nwKxl7qfOBJ_",
        "colab_type": "code",
        "colab": {
          "base_uri": "https://localhost:8080/",
          "height": 34
        },
        "outputId": "490d2ebe-f4bd-4035-d2d7-996f2f225460"
      },
      "cell_type": "code",
      "source": [
        "y = quad(lambda x: np.exp(-x), 0, np.inf)\n",
        "print(y)"
      ],
      "execution_count": 67,
      "outputs": [
        {
          "output_type": "stream",
          "text": [
            "(1.0000000000000002, 5.842606742906004e-11)\n"
          ],
          "name": "stdout"
        }
      ]
    },
    {
      "metadata": {
        "id": "eIPFX6pxOhxi",
        "colab_type": "code",
        "colab": {
          "base_uri": "https://localhost:8080/",
          "height": 34
        },
        "outputId": "9a6a125e-1415-4b9a-d5fa-88abc41de349"
      },
      "cell_type": "code",
      "source": [
        "print(dblquad(lambda x, y: np.sin(x + y), -np.pi, np.pi,lambda y: -np.pi, lambda y: np.pi))"
      ],
      "execution_count": 68,
      "outputs": [
        {
          "output_type": "stream",
          "text": [
            "(0.0, 4.455640411607382e-14)\n"
          ],
          "name": "stdout"
        }
      ]
    },
    {
      "metadata": {
        "id": "9AaWAEOHPZvY",
        "colab_type": "code",
        "colab": {
          "base_uri": "https://localhost:8080/",
          "height": 34
        },
        "outputId": "51357a19-845e-48e4-f1f2-ac805177794d"
      },
      "cell_type": "code",
      "source": [
        "def f(x, y):\n",
        "  return x * y\n",
        "\n",
        "def bound_x():\n",
        "  return [0, 0.5]\n",
        "\n",
        "def bound_y(x):\n",
        "  return [0, 1 + x]\n",
        "\n",
        "if __name__ == \"__main__\":\n",
        "  print(nquad(f, [bound_y, bound_x]))"
      ],
      "execution_count": 69,
      "outputs": [
        {
          "output_type": "stream",
          "text": [
            "(0.11197916666666667, 6.2224265447600445e-15)\n"
          ],
          "name": "stdout"
        }
      ]
    },
    {
      "metadata": {
        "id": "KeYbHhU5RhVJ",
        "colab_type": "text"
      },
      "cell_type": "markdown",
      "source": [
        "# scikit-learn决策树"
      ]
    },
    {
      "metadata": {
        "id": "UL70MHv-jVmG",
        "colab_type": "text"
      },
      "cell_type": "markdown",
      "source": [
        "## 数据挖掘 和 机器学习 三步走"
      ]
    },
    {
      "metadata": {
        "id": "Gon_sIRme14T",
        "colab_type": "text"
      },
      "cell_type": "markdown",
      "source": [
        "## 1, Pre-processing"
      ]
    },
    {
      "metadata": {
        "id": "Gs2SIk-kRg6T",
        "colab_type": "code",
        "colab": {}
      },
      "cell_type": "code",
      "source": [
        "import numpy as np\n",
        "from sklearn.datasets import load_iris # 从库sklearn中的数据集中导入鸢尾花数据集"
      ],
      "execution_count": 0,
      "outputs": []
    },
    {
      "metadata": {
        "id": "KhS_UpX7Q-kI",
        "colab_type": "code",
        "colab": {}
      },
      "cell_type": "code",
      "source": [
        "iris = load_iris() \n",
        "# print(iris) # 打印查看鸢尾花数据集的信息"
      ],
      "execution_count": 0,
      "outputs": []
    },
    {
      "metadata": {
        "id": "_Y3kmLz4fLCV",
        "colab_type": "code",
        "colab": {
          "base_uri": "https://localhost:8080/",
          "height": 34
        },
        "outputId": "332503e2-9842-4a49-a7e9-5a234ad8af84"
      },
      "cell_type": "code",
      "source": [
        "print(len(iris['data'])) # 打印查看数据集的大小"
      ],
      "execution_count": 72,
      "outputs": [
        {
          "output_type": "stream",
          "text": [
            "150\n"
          ],
          "name": "stdout"
        }
      ]
    },
    {
      "metadata": {
        "id": "Xi2UyLHGffnn",
        "colab_type": "code",
        "colab": {}
      },
      "cell_type": "code",
      "source": [
        "from sklearn.cross_validation import train_test_split # 导入模块用来切分数据集为训练数据集和验证数据集\n",
        "train_data, test_data, train_target, test_target = train_test_split(iris.data, iris.target, test_size=0.2, random_state=1) # 随机切分20%的数据为验证集"
      ],
      "execution_count": 0,
      "outputs": []
    },
    {
      "metadata": {
        "id": "1Gqw7MAEgGj7",
        "colab_type": "code",
        "colab": {}
      },
      "cell_type": "code",
      "source": [
        "# print('train_data:{0}'.format(train_data)) \n",
        "# print('test_data:{0}'.format(test_data))\n",
        "# print('train_target:{0}'.format(train_target))\n",
        "# print('test_target:{0}'.format(test_target)) # 打印查看切分后的各个数据集"
      ],
      "execution_count": 0,
      "outputs": []
    },
    {
      "metadata": {
        "id": "wolz6w3egoxv",
        "colab_type": "text"
      },
      "cell_type": "markdown",
      "source": [
        "## 2, Modelling"
      ]
    },
    {
      "metadata": {
        "id": "CIPvpLeegkAk",
        "colab_type": "code",
        "colab": {}
      },
      "cell_type": "code",
      "source": [
        "from sklearn import tree # 导入决策树模块"
      ],
      "execution_count": 0,
      "outputs": []
    },
    {
      "metadata": {
        "id": "AY2QHCKHg7R6",
        "colab_type": "code",
        "colab": {}
      },
      "cell_type": "code",
      "source": [
        "clf = tree.DecisionTreeClassifier(criterion='entropy') # 以信息熵来构造决策树分类器，而不是决策树回归函数\n",
        "clf.fit(train_data, train_target) # 利用训练数据来训练决策树分类器模型\n",
        "y_pred = clf.predict(test_data) # 利用训练好的决策树模型来预测验证数据类别"
      ],
      "execution_count": 0,
      "outputs": []
    },
    {
      "metadata": {
        "id": "zk-qtOqvhXN6",
        "colab_type": "code",
        "colab": {
          "base_uri": "https://localhost:8080/",
          "height": 51
        },
        "outputId": "d5e7bb07-4547-4b36-dce7-317ec15a72a7"
      },
      "cell_type": "code",
      "source": [
        "print(len(y_pred))\n",
        "print(\"prediction:{0}\".format(y_pred))"
      ],
      "execution_count": 77,
      "outputs": [
        {
          "output_type": "stream",
          "text": [
            "30\n",
            "prediction:[0 1 1 0 2 1 2 0 0 2 1 0 2 1 1 0 1 1 0 0 1 1 2 0 2 1 0 0 1 2]\n"
          ],
          "name": "stdout"
        }
      ]
    },
    {
      "metadata": {
        "id": "v0xiuBGChiNk",
        "colab_type": "text"
      },
      "cell_type": "markdown",
      "source": [
        "## 3, Verifying"
      ]
    },
    {
      "metadata": {
        "id": "th3s9aFchgrg",
        "colab_type": "code",
        "colab": {}
      },
      "cell_type": "code",
      "source": [
        "from sklearn import metrics # 导入度量函数"
      ],
      "execution_count": 0,
      "outputs": []
    },
    {
      "metadata": {
        "id": "8Tyg-CrUh7s3",
        "colab_type": "code",
        "colab": {
          "base_uri": "https://localhost:8080/",
          "height": 34
        },
        "outputId": "52fd8cb9-c858-4262-d758-aa7124e26de5"
      },
      "cell_type": "code",
      "source": [
        "print(metrics.accuracy_score(y_true=test_target, y_pred=y_pred)) # 计算预测的准确率"
      ],
      "execution_count": 79,
      "outputs": [
        {
          "output_type": "stream",
          "text": [
            "0.9666666666666667\n"
          ],
          "name": "stdout"
        }
      ]
    },
    {
      "metadata": {
        "id": "OEhQiSQCiHKP",
        "colab_type": "code",
        "colab": {
          "base_uri": "https://localhost:8080/",
          "height": 68
        },
        "outputId": "efd27a06-2f00-4cc2-9d7a-c4d799a73de6"
      },
      "cell_type": "code",
      "source": [
        "print(metrics.confusion_matrix(y_true=test_target, y_pred=y_pred))  # 混淆矩阵，其中1表示第二类预测为第三类"
      ],
      "execution_count": 80,
      "outputs": [
        {
          "output_type": "stream",
          "text": [
            "[[11  0  0]\n",
            " [ 0 12  1]\n",
            " [ 0  0  6]]\n"
          ],
          "name": "stdout"
        }
      ]
    },
    {
      "metadata": {
        "id": "gBRZMJnDwzpW",
        "colab_type": "code",
        "colab": {}
      },
      "cell_type": "code",
      "source": [
        "# with open(\"./data/tree.dot\", \"w\") as fw:\n",
        "#   tree.export_graphviz(clf, out_file=fw) # 将决策树的图保存成文件"
      ],
      "execution_count": 0,
      "outputs": []
    },
    {
      "metadata": {
        "id": "iAHVkTMonpq3",
        "colab_type": "text"
      },
      "cell_type": "markdown",
      "source": [
        "# neural network by keras 神经网络训练鸢尾花数据"
      ]
    },
    {
      "metadata": {
        "id": "hYG_JtMxiW2o",
        "colab_type": "code",
        "colab": {}
      },
      "cell_type": "code",
      "source": [
        "from keras.models import Sequential # 导入模块，用来存储神经网络，认为此模块是人工神经网络的容器\n",
        "from keras.layers import Dense, Activation # Dense 为每层设置参数，Activation 为每层设置激活函数\n",
        "from keras.optimizers import SGD # SGD 为随机梯度下降，用来训练参数"
      ],
      "execution_count": 0,
      "outputs": []
    },
    {
      "metadata": {
        "id": "QO7_R2g2oQ9Z",
        "colab_type": "code",
        "colab": {}
      },
      "cell_type": "code",
      "source": [
        "from sklearn.datasets import load_iris # 导入鸢尾花数据\n",
        "from sklearn.preprocessing import LabelBinarizer # 将标签数据转化为独一编码形式，方便训练数据\n",
        "from sklearn.cross_validation import train_test_split # 将数据切分为训练集和测试集"
      ],
      "execution_count": 0,
      "outputs": []
    },
    {
      "metadata": {
        "id": "nFH24qOloXwx",
        "colab_type": "code",
        "colab": {}
      },
      "cell_type": "code",
      "source": [
        "iris = load_iris()\n",
        "train_data, test_data, train_target, test_target = train_test_split(iris.data, iris.target, test_size=0.2, random_state=1) # 切分数据\n",
        "train_labels = LabelBinarizer().fit_transform(train_target) \n",
        "test_labels = LabelBinarizer().fit_transform(test_target) # 将标签转化为独一编码"
      ],
      "execution_count": 0,
      "outputs": []
    },
    {
      "metadata": {
        "id": "5yHiQGQDpsDa",
        "colab_type": "code",
        "colab": {
          "base_uri": "https://localhost:8080/",
          "height": 6834
        },
        "outputId": "c0d7e981-d623-48c8-956a-3d82a77cf5e6"
      },
      "cell_type": "code",
      "source": [
        "model = Sequential([\n",
        "    Dense(5, input_dim=4),\n",
        "    Activation('relu'),\n",
        "    Dense(3),\n",
        "    Activation('sigmoid'),\n",
        "]) # 为神经网络设置层数，输入输出纬度，激活函数\n",
        "\n",
        "# model = Sequential()\n",
        "# model.add(Dense(5, input_dim=4), \n",
        "#          Activation('relu'))\n",
        "\n",
        "sgd = SGD(lr=0.01, decay=1e-6, momentum=0.9, nesterov=True) # 随机梯度下降算法设置参数 lr（learning rate）是学习率； decay是步长； momentum是动量； nesterov 使动量更优化\n",
        "model.compile(optimizer=sgd, loss='categorical_crossentropy') # 损失函数设置成交叉熵\n",
        "model.fit(train_data, train_labels, epochs=200,batch_size=40) # 训练轮数epochs, 每批次训练数据个数batch_size"
      ],
      "execution_count": 85,
      "outputs": [
        {
          "output_type": "stream",
          "text": [
            "Epoch 1/200\n",
            "120/120 [==============================] - 0s 1ms/step - loss: 0.9870\n",
            "Epoch 2/200\n",
            "120/120 [==============================] - 0s 131us/step - loss: 0.9840\n",
            "Epoch 3/200\n",
            "120/120 [==============================] - 0s 114us/step - loss: 0.9790\n",
            "Epoch 4/200\n",
            "120/120 [==============================] - 0s 145us/step - loss: 0.9730\n",
            "Epoch 5/200\n",
            "120/120 [==============================] - 0s 128us/step - loss: 0.9658\n",
            "Epoch 6/200\n",
            "120/120 [==============================] - 0s 139us/step - loss: 0.9583\n",
            "Epoch 7/200\n",
            "120/120 [==============================] - 0s 135us/step - loss: 0.9496\n",
            "Epoch 8/200\n",
            "120/120 [==============================] - 0s 129us/step - loss: 0.9407\n",
            "Epoch 9/200\n",
            "120/120 [==============================] - 0s 138us/step - loss: 0.9319\n",
            "Epoch 10/200\n",
            "120/120 [==============================] - 0s 133us/step - loss: 0.9224\n",
            "Epoch 11/200\n",
            "120/120 [==============================] - 0s 135us/step - loss: 0.9124\n",
            "Epoch 12/200\n",
            "120/120 [==============================] - 0s 136us/step - loss: 0.9026\n",
            "Epoch 13/200\n",
            "120/120 [==============================] - 0s 133us/step - loss: 0.8926\n",
            "Epoch 14/200\n",
            "120/120 [==============================] - 0s 165us/step - loss: 0.8818\n",
            "Epoch 15/200\n",
            "120/120 [==============================] - 0s 124us/step - loss: 0.8714\n",
            "Epoch 16/200\n",
            "120/120 [==============================] - 0s 139us/step - loss: 0.8604\n",
            "Epoch 17/200\n",
            "120/120 [==============================] - 0s 141us/step - loss: 0.8495\n",
            "Epoch 18/200\n",
            "120/120 [==============================] - 0s 130us/step - loss: 0.8381\n",
            "Epoch 19/200\n",
            "120/120 [==============================] - 0s 152us/step - loss: 0.8266\n",
            "Epoch 20/200\n",
            "120/120 [==============================] - 0s 139us/step - loss: 0.8150\n",
            "Epoch 21/200\n",
            "120/120 [==============================] - 0s 158us/step - loss: 0.8031\n",
            "Epoch 22/200\n",
            "120/120 [==============================] - 0s 172us/step - loss: 0.7913\n",
            "Epoch 23/200\n",
            "120/120 [==============================] - 0s 172us/step - loss: 0.7800\n",
            "Epoch 24/200\n",
            "120/120 [==============================] - 0s 153us/step - loss: 0.7690\n",
            "Epoch 25/200\n",
            "120/120 [==============================] - 0s 159us/step - loss: 0.7580\n",
            "Epoch 26/200\n",
            "120/120 [==============================] - 0s 148us/step - loss: 0.7472\n",
            "Epoch 27/200\n",
            "120/120 [==============================] - 0s 125us/step - loss: 0.7368\n",
            "Epoch 28/200\n",
            "120/120 [==============================] - 0s 136us/step - loss: 0.7267\n",
            "Epoch 29/200\n",
            "120/120 [==============================] - 0s 130us/step - loss: 0.7172\n",
            "Epoch 30/200\n",
            "120/120 [==============================] - 0s 148us/step - loss: 0.7077\n",
            "Epoch 31/200\n",
            " 40/120 [=========>....................] - ETA: 0s - loss: 0.6957"
          ],
          "name": "stdout"
        },
        {
          "output_type": "stream",
          "text": [
            "\b\b\b\b\b\b\b\b\b\b\b\b\b\b\b\b\b\b\b\b\b\b\b\b\b\b\b\b\b\b\b\b\b\b\b\b\b\b\b\b\b\b\b\b\b\b\b\b\b\b\b\b\b\b\b\b\b\b\b\b\b\b\b\b\b\r120/120 [==============================] - 0s 138us/step - loss: 0.6989\n",
            "Epoch 32/200\n",
            "120/120 [==============================] - 0s 127us/step - loss: 0.6905\n",
            "Epoch 33/200\n",
            "120/120 [==============================] - 0s 139us/step - loss: 0.6825\n",
            "Epoch 34/200\n",
            "120/120 [==============================] - 0s 125us/step - loss: 0.6751\n",
            "Epoch 35/200\n",
            "120/120 [==============================] - 0s 106us/step - loss: 0.6680\n",
            "Epoch 36/200\n",
            "120/120 [==============================] - 0s 113us/step - loss: 0.6613\n",
            "Epoch 37/200\n",
            "120/120 [==============================] - 0s 163us/step - loss: 0.6551\n",
            "Epoch 38/200\n",
            "120/120 [==============================] - 0s 173us/step - loss: 0.6492\n",
            "Epoch 39/200\n",
            "120/120 [==============================] - 0s 134us/step - loss: 0.6435\n",
            "Epoch 40/200\n",
            "120/120 [==============================] - 0s 143us/step - loss: 0.6383\n",
            "Epoch 41/200\n",
            "120/120 [==============================] - 0s 117us/step - loss: 0.6332\n",
            "Epoch 42/200\n",
            "120/120 [==============================] - 0s 199us/step - loss: 0.6286\n",
            "Epoch 43/200\n",
            "120/120 [==============================] - 0s 157us/step - loss: 0.6241\n",
            "Epoch 44/200\n",
            "120/120 [==============================] - 0s 136us/step - loss: 0.6199\n",
            "Epoch 45/200\n",
            "120/120 [==============================] - 0s 146us/step - loss: 0.6159\n",
            "Epoch 46/200\n",
            "120/120 [==============================] - 0s 146us/step - loss: 0.6121\n",
            "Epoch 47/200\n",
            "120/120 [==============================] - 0s 144us/step - loss: 0.6084\n",
            "Epoch 48/200\n",
            "120/120 [==============================] - 0s 168us/step - loss: 0.6049\n",
            "Epoch 49/200\n",
            "120/120 [==============================] - 0s 160us/step - loss: 0.6015\n",
            "Epoch 50/200\n",
            "120/120 [==============================] - 0s 165us/step - loss: 0.5983\n",
            "Epoch 51/200\n",
            "120/120 [==============================] - 0s 147us/step - loss: 0.5952\n",
            "Epoch 52/200\n",
            "120/120 [==============================] - 0s 162us/step - loss: 0.5922\n",
            "Epoch 53/200\n",
            "120/120 [==============================] - 0s 145us/step - loss: 0.5893\n",
            "Epoch 54/200\n",
            "120/120 [==============================] - 0s 123us/step - loss: 0.5865\n",
            "Epoch 55/200\n",
            "120/120 [==============================] - 0s 143us/step - loss: 0.5839\n",
            "Epoch 56/200\n",
            "120/120 [==============================] - 0s 146us/step - loss: 0.5813\n",
            "Epoch 57/200\n",
            "120/120 [==============================] - 0s 134us/step - loss: 0.5788\n",
            "Epoch 58/200\n"
          ],
          "name": "stdout"
        },
        {
          "output_type": "stream",
          "text": [
            "120/120 [==============================] - 0s 122us/step - loss: 0.5765\n",
            "Epoch 59/200\n",
            "120/120 [==============================] - 0s 161us/step - loss: 0.5741\n",
            "Epoch 60/200\n",
            "120/120 [==============================] - 0s 125us/step - loss: 0.5719\n",
            "Epoch 61/200\n",
            "120/120 [==============================] - 0s 152us/step - loss: 0.5697\n",
            "Epoch 62/200\n",
            "120/120 [==============================] - 0s 152us/step - loss: 0.5676\n",
            "Epoch 63/200\n",
            "120/120 [==============================] - 0s 162us/step - loss: 0.5656\n",
            "Epoch 64/200\n",
            "120/120 [==============================] - 0s 176us/step - loss: 0.5636\n",
            "Epoch 65/200\n",
            "120/120 [==============================] - 0s 114us/step - loss: 0.5617\n",
            "Epoch 66/200\n",
            "120/120 [==============================] - 0s 135us/step - loss: 0.5599\n",
            "Epoch 67/200\n",
            "120/120 [==============================] - 0s 130us/step - loss: 0.5581\n",
            "Epoch 68/200\n",
            "120/120 [==============================] - 0s 125us/step - loss: 0.5564\n",
            "Epoch 69/200\n",
            "120/120 [==============================] - 0s 137us/step - loss: 0.5547\n",
            "Epoch 70/200\n",
            "120/120 [==============================] - 0s 140us/step - loss: 0.5532\n",
            "Epoch 71/200\n",
            "120/120 [==============================] - 0s 155us/step - loss: 0.5515\n",
            "Epoch 72/200\n",
            "120/120 [==============================] - 0s 130us/step - loss: 0.5500\n",
            "Epoch 73/200\n",
            "120/120 [==============================] - 0s 142us/step - loss: 0.5485\n",
            "Epoch 74/200\n",
            "120/120 [==============================] - 0s 168us/step - loss: 0.5471\n",
            "Epoch 75/200\n",
            "120/120 [==============================] - 0s 159us/step - loss: 0.5457\n",
            "Epoch 76/200\n",
            "120/120 [==============================] - 0s 160us/step - loss: 0.5443\n",
            "Epoch 77/200\n",
            "120/120 [==============================] - 0s 188us/step - loss: 0.5430\n",
            "Epoch 78/200\n",
            "120/120 [==============================] - 0s 185us/step - loss: 0.5417\n",
            "Epoch 79/200\n",
            "120/120 [==============================] - 0s 196us/step - loss: 0.5405\n",
            "Epoch 80/200\n",
            "120/120 [==============================] - 0s 175us/step - loss: 0.5393\n",
            "Epoch 81/200\n",
            "120/120 [==============================] - 0s 188us/step - loss: 0.5381\n",
            "Epoch 82/200\n",
            "120/120 [==============================] - 0s 138us/step - loss: 0.5370\n",
            "Epoch 83/200\n",
            "120/120 [==============================] - 0s 222us/step - loss: 0.5359\n",
            "Epoch 84/200\n",
            "120/120 [==============================] - 0s 222us/step - loss: 0.5348\n",
            "Epoch 85/200\n",
            "120/120 [==============================] - 0s 164us/step - loss: 0.5337\n",
            "Epoch 86/200\n",
            "120/120 [==============================] - 0s 172us/step - loss: 0.5327\n",
            "Epoch 87/200\n"
          ],
          "name": "stdout"
        },
        {
          "output_type": "stream",
          "text": [
            "120/120 [==============================] - 0s 213us/step - loss: 0.5317\n",
            "Epoch 88/200\n",
            "120/120 [==============================] - 0s 184us/step - loss: 0.5307\n",
            "Epoch 89/200\n",
            "120/120 [==============================] - 0s 188us/step - loss: 0.5298\n",
            "Epoch 90/200\n",
            "120/120 [==============================] - 0s 178us/step - loss: 0.5288\n",
            "Epoch 91/200\n",
            "120/120 [==============================] - 0s 169us/step - loss: 0.5279\n",
            "Epoch 92/200\n",
            "120/120 [==============================] - 0s 195us/step - loss: 0.5271\n",
            "Epoch 93/200\n",
            "120/120 [==============================] - 0s 161us/step - loss: 0.5262\n",
            "Epoch 94/200\n",
            "120/120 [==============================] - 0s 186us/step - loss: 0.5254\n",
            "Epoch 95/200\n",
            "120/120 [==============================] - 0s 170us/step - loss: 0.5246\n",
            "Epoch 96/200\n",
            "120/120 [==============================] - 0s 169us/step - loss: 0.5238\n",
            "Epoch 97/200\n",
            "120/120 [==============================] - 0s 152us/step - loss: 0.5230\n",
            "Epoch 98/200\n",
            "120/120 [==============================] - 0s 171us/step - loss: 0.5222\n",
            "Epoch 99/200\n",
            "120/120 [==============================] - 0s 185us/step - loss: 0.5215\n",
            "Epoch 100/200\n",
            "120/120 [==============================] - 0s 167us/step - loss: 0.5207\n",
            "Epoch 101/200\n",
            "120/120 [==============================] - 0s 272us/step - loss: 0.5201\n",
            "Epoch 102/200\n",
            "120/120 [==============================] - 0s 184us/step - loss: 0.5194\n",
            "Epoch 103/200\n",
            "120/120 [==============================] - 0s 200us/step - loss: 0.5187\n",
            "Epoch 104/200\n",
            "120/120 [==============================] - 0s 134us/step - loss: 0.5180\n",
            "Epoch 105/200\n",
            "120/120 [==============================] - 0s 199us/step - loss: 0.5174\n",
            "Epoch 106/200\n",
            "120/120 [==============================] - 0s 214us/step - loss: 0.5168\n",
            "Epoch 107/200\n",
            "120/120 [==============================] - 0s 188us/step - loss: 0.5161\n",
            "Epoch 108/200\n",
            "120/120 [==============================] - 0s 150us/step - loss: 0.5155\n",
            "Epoch 109/200\n",
            "120/120 [==============================] - 0s 150us/step - loss: 0.5149\n",
            "Epoch 110/200\n",
            "120/120 [==============================] - 0s 155us/step - loss: 0.5144\n",
            "Epoch 111/200\n",
            "120/120 [==============================] - 0s 186us/step - loss: 0.5138\n",
            "Epoch 112/200\n",
            "120/120 [==============================] - 0s 206us/step - loss: 0.5132\n",
            "Epoch 113/200\n",
            "120/120 [==============================] - 0s 184us/step - loss: 0.5127\n",
            "Epoch 114/200\n",
            "120/120 [==============================] - 0s 194us/step - loss: 0.5122\n",
            "Epoch 115/200\n",
            " 40/120 [=========>....................] - ETA: 0s - loss: 0.4350"
          ],
          "name": "stdout"
        },
        {
          "output_type": "stream",
          "text": [
            "120/120 [==============================] - 0s 178us/step - loss: 0.5116\n",
            "Epoch 116/200\n",
            "120/120 [==============================] - 0s 153us/step - loss: 0.5111\n",
            "Epoch 117/200\n",
            "120/120 [==============================] - 0s 185us/step - loss: 0.5106\n",
            "Epoch 118/200\n",
            "120/120 [==============================] - 0s 169us/step - loss: 0.5101\n",
            "Epoch 119/200\n",
            "120/120 [==============================] - 0s 162us/step - loss: 0.5097\n",
            "Epoch 120/200\n",
            "120/120 [==============================] - 0s 170us/step - loss: 0.5092\n",
            "Epoch 121/200\n",
            "120/120 [==============================] - 0s 182us/step - loss: 0.5087\n",
            "Epoch 122/200\n",
            "120/120 [==============================] - 0s 181us/step - loss: 0.5083\n",
            "Epoch 123/200\n",
            "120/120 [==============================] - 0s 254us/step - loss: 0.5078\n",
            "Epoch 124/200\n",
            "120/120 [==============================] - 0s 168us/step - loss: 0.5074\n",
            "Epoch 125/200\n",
            "120/120 [==============================] - 0s 191us/step - loss: 0.5070\n",
            "Epoch 126/200\n",
            "120/120 [==============================] - 0s 175us/step - loss: 0.5066\n",
            "Epoch 127/200\n",
            "120/120 [==============================] - 0s 188us/step - loss: 0.5062\n",
            "Epoch 128/200\n",
            "120/120 [==============================] - 0s 168us/step - loss: 0.5057\n",
            "Epoch 129/200\n",
            "120/120 [==============================] - 0s 186us/step - loss: 0.5054\n",
            "Epoch 130/200\n",
            "120/120 [==============================] - 0s 183us/step - loss: 0.5050\n",
            "Epoch 131/200\n",
            "120/120 [==============================] - 0s 181us/step - loss: 0.5046\n",
            "Epoch 132/200\n",
            "120/120 [==============================] - 0s 154us/step - loss: 0.5042\n",
            "Epoch 133/200\n",
            "120/120 [==============================] - 0s 148us/step - loss: 0.5038\n",
            "Epoch 134/200\n",
            "120/120 [==============================] - 0s 148us/step - loss: 0.5035\n",
            "Epoch 135/200\n",
            "120/120 [==============================] - 0s 199us/step - loss: 0.5031\n",
            "Epoch 136/200\n",
            "120/120 [==============================] - 0s 184us/step - loss: 0.5028\n",
            "Epoch 137/200\n",
            "120/120 [==============================] - 0s 149us/step - loss: 0.5024\n",
            "Epoch 138/200\n",
            "120/120 [==============================] - 0s 142us/step - loss: 0.5021\n",
            "Epoch 139/200\n",
            "120/120 [==============================] - 0s 176us/step - loss: 0.5017\n",
            "Epoch 140/200\n",
            "120/120 [==============================] - 0s 184us/step - loss: 0.5014\n",
            "Epoch 141/200\n",
            "120/120 [==============================] - 0s 181us/step - loss: 0.5011\n",
            "Epoch 142/200\n",
            "120/120 [==============================] - 0s 174us/step - loss: 0.5008\n",
            "Epoch 143/200\n",
            " 40/120 [=========>....................] - ETA: 0s - loss: 0.4871"
          ],
          "name": "stdout"
        },
        {
          "output_type": "stream",
          "text": [
            "\b\b\b\b\b\b\b\b\b\b\b\b\b\b\b\b\b\b\b\b\b\b\b\b\b\b\b\b\b\b\b\b\b\b\b\b\b\b\b\b\b\b\b\b\b\b\b\b\b\b\b\b\b\b\b\b\b\b\b\b\b\b\b\b\b\r120/120 [==============================] - 0s 173us/step - loss: 0.5005\n",
            "Epoch 144/200\n",
            "120/120 [==============================] - 0s 189us/step - loss: 0.5002\n",
            "Epoch 145/200\n",
            "120/120 [==============================] - 0s 157us/step - loss: 0.4999\n",
            "Epoch 146/200\n",
            "120/120 [==============================] - 0s 160us/step - loss: 0.4996\n",
            "Epoch 147/200\n",
            "120/120 [==============================] - 0s 179us/step - loss: 0.4993\n",
            "Epoch 148/200\n",
            "120/120 [==============================] - 0s 159us/step - loss: 0.4990\n",
            "Epoch 149/200\n",
            "120/120 [==============================] - 0s 168us/step - loss: 0.4987\n",
            "Epoch 150/200\n",
            "120/120 [==============================] - 0s 166us/step - loss: 0.4984\n",
            "Epoch 151/200\n",
            "120/120 [==============================] - 0s 201us/step - loss: 0.4981\n",
            "Epoch 152/200\n",
            "120/120 [==============================] - 0s 166us/step - loss: 0.4979\n",
            "Epoch 153/200\n",
            "120/120 [==============================] - 0s 178us/step - loss: 0.4976\n",
            "Epoch 154/200\n",
            "120/120 [==============================] - 0s 168us/step - loss: 0.4974\n",
            "Epoch 155/200\n",
            "120/120 [==============================] - 0s 165us/step - loss: 0.4971\n",
            "Epoch 156/200\n",
            "120/120 [==============================] - 0s 172us/step - loss: 0.4969\n",
            "Epoch 157/200\n",
            "120/120 [==============================] - 0s 178us/step - loss: 0.4966\n",
            "Epoch 158/200\n",
            "120/120 [==============================] - 0s 250us/step - loss: 0.4964\n",
            "Epoch 159/200\n",
            "120/120 [==============================] - 0s 188us/step - loss: 0.4961\n",
            "Epoch 160/200\n",
            "120/120 [==============================] - 0s 201us/step - loss: 0.4959\n",
            "Epoch 161/200\n",
            "120/120 [==============================] - 0s 230us/step - loss: 0.4956\n",
            "Epoch 162/200\n",
            "120/120 [==============================] - 0s 173us/step - loss: 0.4954\n",
            "Epoch 163/200\n",
            "120/120 [==============================] - 0s 169us/step - loss: 0.4952\n",
            "Epoch 164/200\n",
            "120/120 [==============================] - 0s 183us/step - loss: 0.4950\n",
            "Epoch 165/200\n",
            "120/120 [==============================] - 0s 181us/step - loss: 0.4947\n",
            "Epoch 166/200\n",
            "120/120 [==============================] - 0s 158us/step - loss: 0.4945\n",
            "Epoch 167/200\n",
            "120/120 [==============================] - 0s 203us/step - loss: 0.4943\n",
            "Epoch 168/200\n",
            "120/120 [==============================] - 0s 226us/step - loss: 0.4941\n",
            "Epoch 169/200\n",
            "120/120 [==============================] - 0s 194us/step - loss: 0.4939\n",
            "Epoch 170/200\n",
            "120/120 [==============================] - 0s 164us/step - loss: 0.4937\n",
            "Epoch 171/200\n"
          ],
          "name": "stdout"
        },
        {
          "output_type": "stream",
          "text": [
            "120/120 [==============================] - 0s 167us/step - loss: 0.4935\n",
            "Epoch 172/200\n",
            "120/120 [==============================] - 0s 189us/step - loss: 0.4933\n",
            "Epoch 173/200\n",
            "120/120 [==============================] - 0s 181us/step - loss: 0.4931\n",
            "Epoch 174/200\n",
            "120/120 [==============================] - 0s 171us/step - loss: 0.4929\n",
            "Epoch 175/200\n",
            "120/120 [==============================] - 0s 186us/step - loss: 0.4927\n",
            "Epoch 176/200\n",
            "120/120 [==============================] - 0s 137us/step - loss: 0.4925\n",
            "Epoch 177/200\n",
            "120/120 [==============================] - 0s 166us/step - loss: 0.4923\n",
            "Epoch 178/200\n",
            "120/120 [==============================] - 0s 208us/step - loss: 0.4921\n",
            "Epoch 179/200\n",
            "120/120 [==============================] - 0s 228us/step - loss: 0.4919\n",
            "Epoch 180/200\n",
            "120/120 [==============================] - 0s 197us/step - loss: 0.4918\n",
            "Epoch 181/200\n",
            "120/120 [==============================] - 0s 167us/step - loss: 0.4916\n",
            "Epoch 182/200\n",
            "120/120 [==============================] - 0s 182us/step - loss: 0.4914\n",
            "Epoch 183/200\n",
            "120/120 [==============================] - 0s 172us/step - loss: 0.4912\n",
            "Epoch 184/200\n",
            "120/120 [==============================] - 0s 175us/step - loss: 0.4910\n",
            "Epoch 185/200\n",
            "120/120 [==============================] - 0s 173us/step - loss: 0.4909\n",
            "Epoch 186/200\n",
            "120/120 [==============================] - 0s 159us/step - loss: 0.4907\n",
            "Epoch 187/200\n",
            "120/120 [==============================] - 0s 179us/step - loss: 0.4906\n",
            "Epoch 188/200\n",
            "120/120 [==============================] - 0s 183us/step - loss: 0.4904\n",
            "Epoch 189/200\n",
            "120/120 [==============================] - 0s 143us/step - loss: 0.4903\n",
            "Epoch 190/200\n",
            "120/120 [==============================] - 0s 169us/step - loss: 0.4901\n",
            "Epoch 191/200\n",
            "120/120 [==============================] - 0s 162us/step - loss: 0.4899\n",
            "Epoch 192/200\n",
            "120/120 [==============================] - 0s 150us/step - loss: 0.4898\n",
            "Epoch 193/200\n",
            "120/120 [==============================] - 0s 153us/step - loss: 0.4896\n",
            "Epoch 194/200\n",
            "120/120 [==============================] - 0s 179us/step - loss: 0.4894\n",
            "Epoch 195/200\n",
            "120/120 [==============================] - 0s 174us/step - loss: 0.4893\n",
            "Epoch 196/200\n",
            "120/120 [==============================] - 0s 170us/step - loss: 0.4891\n",
            "Epoch 197/200\n",
            "120/120 [==============================] - 0s 249us/step - loss: 0.4890\n"
          ],
          "name": "stdout"
        },
        {
          "output_type": "stream",
          "text": [
            "Epoch 198/200\n",
            "120/120 [==============================] - 0s 146us/step - loss: 0.4889\n",
            "Epoch 199/200\n",
            "120/120 [==============================] - 0s 158us/step - loss: 0.4887\n",
            "Epoch 200/200\n",
            "120/120 [==============================] - 0s 165us/step - loss: 0.4886\n"
          ],
          "name": "stdout"
        },
        {
          "output_type": "execute_result",
          "data": {
            "text/plain": [
              "<keras.callbacks.History at 0x7ff8ab75ae48>"
            ]
          },
          "metadata": {
            "tags": []
          },
          "execution_count": 85
        }
      ]
    },
    {
      "metadata": {
        "id": "b66laFDgrPRU",
        "colab_type": "code",
        "colab": {
          "base_uri": "https://localhost:8080/",
          "height": 34
        },
        "outputId": "5d6410f9-fd24-4efe-9630-1440f4517782"
      },
      "cell_type": "code",
      "source": [
        "print(model.predict_classes(test_data)) # 打印预测的结果标签"
      ],
      "execution_count": 86,
      "outputs": [
        {
          "output_type": "stream",
          "text": [
            "[0 2 2 0 2 2 2 0 0 2 2 0 2 2 2 0 2 2 0 0 2 2 2 0 2 2 0 0 2 2]\n"
          ],
          "name": "stdout"
        }
      ]
    },
    {
      "metadata": {
        "id": "SjD6RhgLrdV5",
        "colab_type": "code",
        "colab": {}
      },
      "cell_type": "code",
      "source": [
        "# model.save_weights('./data/w')\n",
        "# model.load_weights('./data/w') # 用来保持中间训练的参数或权重，因为训练有时候会很耗时间"
      ],
      "execution_count": 0,
      "outputs": []
    },
    {
      "metadata": {
        "id": "mAANSef4sofl",
        "colab_type": "code",
        "colab": {
          "base_uri": "https://localhost:8080/",
          "height": 34
        },
        "outputId": "04f94414-0398-48c6-ce38-3c840ab068ea"
      },
      "cell_type": "code",
      "source": [
        "pwd"
      ],
      "execution_count": 88,
      "outputs": [
        {
          "output_type": "execute_result",
          "data": {
            "text/plain": [
              "'/content'"
            ]
          },
          "metadata": {
            "tags": []
          },
          "execution_count": 88
        }
      ]
    },
    {
      "metadata": {
        "id": "0rg31bC4i4a1",
        "colab_type": "code",
        "colab": {}
      },
      "cell_type": "code",
      "source": [
        ""
      ],
      "execution_count": 0,
      "outputs": []
    }
  ]
}